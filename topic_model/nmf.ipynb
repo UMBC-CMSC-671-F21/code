{
 "cells": [
  {
   "cell_type": "code",
   "execution_count": 2,
   "metadata": {},
   "outputs": [],
   "source": [
    "import numpy as np\n",
    "from sklearn.decomposition import NMF"
   ]
  },
  {
   "cell_type": "code",
   "execution_count": 49,
   "metadata": {},
   "outputs": [
    {
     "name": "stdout",
     "output_type": "stream",
     "text": [
      "X has shape (6, 3)\n",
      "[[ 10  12 120]\n",
      " [ 20  12 120]\n",
      " [ 30  13 130]\n",
      " [ 40  13 120]\n",
      " [ 50  12 120]\n",
      " [ 50  12 120]]\n"
     ]
    }
   ],
   "source": [
    "X = np.array([[10, 12, 120], [20, 12, 120], [30, 13, 130], [40, 13, 120], [50, 12, 120], [50, 12, 120]])\n",
    "print(f\"X has shape {X.shape}\")\n",
    "print(X)"
   ]
  },
  {
   "cell_type": "code",
   "execution_count": 33,
   "metadata": {},
   "outputs": [],
   "source": [
    "#model = NMF(n_components=2, init=\"nndsvd\", random_state=0)\n",
    "model = NMF(n_components=2, init=\"nndsvd\")"
   ]
  },
  {
   "cell_type": "code",
   "execution_count": 34,
   "metadata": {},
   "outputs": [],
   "source": [
    "W = model.fit_transform(X)\n",
    "H = model.components_"
   ]
  },
  {
   "cell_type": "code",
   "execution_count": 35,
   "metadata": {},
   "outputs": [
    {
     "name": "stdout",
     "output_type": "stream",
     "text": [
      "[[6.89158616 0.        ]\n",
      " [6.89130585 0.79231435]\n",
      " [7.46533013 1.51884968]\n",
      " [6.89638385 2.37729765]\n",
      " [6.89040148 3.17014724]\n",
      " [6.89040148 3.17014724]]\n"
     ]
    }
   ],
   "source": [
    "print(f\"W has shape {W.shape}\")\n",
    "print(W)"
   ]
  },
  {
   "cell_type": "code",
   "execution_count": 36,
   "metadata": {},
   "outputs": [
    {
     "name": "stdout",
     "output_type": "stream",
     "text": [
      "[[ 1.45146456  1.74721698 17.41190254]\n",
      " [12.61696655  0.06671962  0.        ]]\n"
     ]
    }
   ],
   "source": [
    "print(f\"H has shape {H.shape}\")\n",
    "print(H)"
   ]
  },
  {
   "cell_type": "code",
   "execution_count": 46,
   "metadata": {},
   "outputs": [],
   "source": [
    "X2 = np.matmul(W,H)\n",
    "X2 = np.around(X2, decimals=0)"
   ]
  },
  {
   "cell_type": "code",
   "execution_count": 50,
   "metadata": {},
   "outputs": [
    {
     "name": "stdout",
     "output_type": "stream",
     "text": [
      "The product of W and H has shape (6, 3)\n",
      "[[ 10.  12. 120.]\n",
      " [ 20.  12. 120.]\n",
      " [ 30.  13. 130.]\n",
      " [ 40.  12. 120.]\n",
      " [ 50.  12. 120.]\n",
      " [ 50.  12. 120.]]\n"
     ]
    }
   ],
   "source": [
    "print(f\"The product of W and H has shape {X2.shape}\")\n",
    "print(X2)"
   ]
  },
  {
   "cell_type": "code",
   "execution_count": null,
   "metadata": {},
   "outputs": [],
   "source": []
  },
  {
   "cell_type": "code",
   "execution_count": null,
   "metadata": {},
   "outputs": [],
   "source": []
  }
 ],
 "metadata": {
  "kernelspec": {
   "display_name": "Python 3",
   "language": "python",
   "name": "python3"
  },
  "language_info": {
   "codemirror_mode": {
    "name": "ipython",
    "version": 3
   },
   "file_extension": ".py",
   "mimetype": "text/x-python",
   "name": "python",
   "nbconvert_exporter": "python",
   "pygments_lexer": "ipython3",
   "version": "3.8.1"
  }
 },
 "nbformat": 4,
 "nbformat_minor": 2
}
